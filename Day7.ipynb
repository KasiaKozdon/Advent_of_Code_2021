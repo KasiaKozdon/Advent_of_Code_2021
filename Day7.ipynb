{
 "cells": [
  {
   "cell_type": "code",
   "execution_count": 1,
   "id": "f0050fa4-9f51-40dd-b16e-8b927d285690",
   "metadata": {},
   "outputs": [],
   "source": [
    "import numpy as np\n",
    "import os\n",
    "import unittest\n",
    "\n",
    "data_path = \"{0}/inputs/Input7.txt\".format(os.getcwd())\n",
    "\n",
    "with open(data_path) as f:\n",
    "    data = f.readline().split(',')\n",
    "    data = list(map(int, data))"
   ]
  },
  {
   "cell_type": "code",
   "execution_count": 2,
   "id": "9d15df8b-e553-4a86-97fe-0784d4527e57",
   "metadata": {},
   "outputs": [
    {
     "name": "stderr",
     "output_type": "stream",
     "text": [
      "test_add_all_in_range (__main__.Test) ... ok\n",
      "test_calculate_shift_costs (__main__.Test)\n",
      "Constant cost ... ok\n",
      "\n",
      "----------------------------------------------------------------------\n",
      "Ran 2 tests in 0.015s\n",
      "\n",
      "OK\n"
     ]
    },
    {
     "data": {
      "text/plain": [
       "<unittest.main.TestProgram at 0x10caa1820>"
      ]
     },
     "execution_count": 2,
     "metadata": {},
     "output_type": "execute_result"
    }
   ],
   "source": [
    "def calculate_shift_costs(location_array, constant_cost=True):\n",
    "    \"\"\"\n",
    "    Takes an array of ints where each value is a position. \n",
    "    Returns min(location_array), ax(location_array), and an array of length max(location_array) - length min(location_array).\n",
    "    \"\"\"\n",
    "    location_array = np.array(location_array)\n",
    "    start = min(location_array)\n",
    "    end = max(location_array)\n",
    "    cost_array = np.zeros((end-start)+1)\n",
    "    for cost_idx in range(len(cost_array)):\n",
    "        location = cost_idx + start\n",
    "        raw_distance = abs(location_array - location)\n",
    "        if constant_cost:\n",
    "            cost_array[cost_idx] = sum(raw_distance)\n",
    "        else:   \n",
    "            cost_array[cost_idx] = sum([add_all_in_range(x) for x in raw_distance])\n",
    "    return start, end, np.array(cost_array).astype(int)\n",
    "\n",
    "def add_all_in_range(range_max, range_min=0):\n",
    "    sum_of_range = 0\n",
    "    for number in range(int(range_min), int(range_max+1)):\n",
    "        sum_of_range += number\n",
    "    return int(sum_of_range)\n",
    "        \n",
    "class Test(unittest.TestCase):\n",
    "    def test_calculate_shift_costs(self):\n",
    "        \"\"\" \n",
    "        Constant cost \n",
    "        \"\"\"\n",
    "        a = [0, 1, 2]\n",
    "        test_a, test_b, test_c = calculate_shift_costs(a)\n",
    "        np.testing.assert_array_equal([test_a, test_b], [0, 2])\n",
    "        np.testing.assert_array_equal(test_c, np.array([3, 2, 3]))\n",
    "        \n",
    "        \"\"\" \n",
    "        Non-constant cost \n",
    "        \"\"\"\n",
    "        a = [0, 1, 2]\n",
    "        test_a, test_b, test_c = calculate_shift_costs(a, constant_cost=False)\n",
    "        np.testing.assert_array_equal([test_a, test_b], [0, 2])\n",
    "        np.testing.assert_array_equal(test_c, np.array([4, 2, 4]))\n",
    "        \n",
    "        \n",
    "    def test_add_all_in_range(self):\n",
    "        a = 3\n",
    "        self.assertEqual(add_all_in_range(a), 6)\n",
    "        \n",
    "unittest.main(argv=[''], verbosity=3, exit=False)"
   ]
  },
  {
   "cell_type": "code",
   "execution_count": 3,
   "id": "2756f2cc-4ce3-483e-9208-4efa6b1042cd",
   "metadata": {},
   "outputs": [
    {
     "name": "stdout",
     "output_type": "stream",
     "text": [
      "336131\n"
     ]
    }
   ],
   "source": [
    "# day 7a\n",
    "crab_positions = data.copy()\n",
    "\n",
    "start, end, cost_to_move = calculate_shift_costs(crab_positions)\n",
    "\n",
    "lowest_cost = min(cost_to_move)\n",
    "lowest_cost_location = start + np.where(cost_to_move == lowest_cost)\n",
    "print(lowest_cost)"
   ]
  },
  {
   "cell_type": "code",
   "execution_count": null,
   "id": "fc544afb-c077-4af2-81f9-867cf8d6606b",
   "metadata": {},
   "outputs": [],
   "source": [
    "# dat 7b\n",
    "crab_positions = data.copy()\n",
    "\n",
    "start, end, cost_to_move = calculate_shift_costs(crab_positions, constant_cost=False)\n",
    "\n",
    "lowest_cost = min(cost_to_move)\n",
    "lowest_cost_location = start + np.where(cost_to_move == lowest_cost)\n",
    "print(lowest_cost)"
   ]
  },
  {
   "cell_type": "code",
   "execution_count": null,
   "id": "3bc14f18-478a-4709-837a-77eb0d9d4687",
   "metadata": {},
   "outputs": [],
   "source": []
  }
 ],
 "metadata": {
  "kernelspec": {
   "display_name": "Python 3 (ipykernel)",
   "language": "python",
   "name": "python3"
  },
  "language_info": {
   "codemirror_mode": {
    "name": "ipython",
    "version": 3
   },
   "file_extension": ".py",
   "mimetype": "text/x-python",
   "name": "python",
   "nbconvert_exporter": "python",
   "pygments_lexer": "ipython3",
   "version": "3.9.7"
  }
 },
 "nbformat": 4,
 "nbformat_minor": 5
}
