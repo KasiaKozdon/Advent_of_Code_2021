{
 "cells": [
  {
   "cell_type": "code",
   "execution_count": 1,
   "id": "38dddba3-9989-487a-86ed-1eaafdb5e689",
   "metadata": {},
   "outputs": [],
   "source": [
    "import numpy as np\n",
    "import os\n",
    "import pandas as pd\n",
    "import unittest\n",
    "\n",
    "directory_path = os.getcwd()"
   ]
  },
  {
   "cell_type": "code",
   "execution_count": 2,
   "id": "a76af75a-a2e6-47cf-aa4b-eaab42ddfbb3",
   "metadata": {},
   "outputs": [
    {
     "name": "stderr",
     "output_type": "stream",
     "text": [
      "test_change_1D_string_to_2D_int (__main__.Tests)\n",
      "Test example input. ... ok\n",
      "test_filter_by_bit_freq (__main__.Tests) ... ok\n",
      "test_find_most_frequent_colwise (__main__.Tests) ... ok\n",
      "test_find_most_frequent_in_array (__main__.Tests) ... ok\n",
      "\n",
      "----------------------------------------------------------------------\n",
      "Ran 4 tests in 0.025s\n",
      "\n",
      "OK\n"
     ]
    },
    {
     "data": {
      "text/plain": [
       "<unittest.main.TestProgram at 0x116d2cb20>"
      ]
     },
     "execution_count": 2,
     "metadata": {},
     "output_type": "execute_result"
    }
   ],
   "source": [
    "def change_1D_string_to_2D_int(array):\n",
    "    array = np.array(array)\n",
    "    \n",
    "    int_array = np.zeros((len(array), len(array[0])))\n",
    "    for line in range(len(array)):\n",
    "        int_array[line] = list(map(int, array[line]))\n",
    "    return int_array.astype('int')\n",
    "\n",
    "        \n",
    "def find_most_frequent_colwise(mat):\n",
    "    \"\"\"\n",
    "    For binary matrices.\n",
    "    \"\"\"\n",
    "    most_frequent = []\n",
    "    mat = np.array(mat)\n",
    "    for col in mat.transpose():\n",
    "        most_frequent = np.append(most_frequent, np.argmax(np.bincount(col)))\n",
    "    return most_frequent.astype('int')\n",
    "\n",
    "def convert_bin_array_2_decimal(array):\n",
    "    if type(array) == np.ndarray:\n",
    "        data = np.array2string(array, separator='')\n",
    "        data = data.replace('[', '')\n",
    "        data = data.replace(']', '')\n",
    "    else:\n",
    "        data = array.astype('str')\n",
    "        data = \"\".join(data)\n",
    "    data = int(data, 2)\n",
    "    return data\n",
    "\n",
    "\n",
    "def find_most_frequent_colwise_df(df):\n",
    "    most_common_vals = df.mode()\n",
    "    return most_common_vals.values\n",
    "\n",
    "\n",
    "def find_most_frequent_in_array(array):\n",
    "    \"\"\"\n",
    "    For binary arrays.\n",
    "    \"\"\"\n",
    "    vals, counts = np.unique(array, return_counts=True)\n",
    "    if (len(counts) > 1) and (counts[0] == counts[1]):\n",
    "        return int(1)\n",
    "    else:\n",
    "        highest_val = np.amax(counts)\n",
    "        highest_index = np.where(counts == highest_val)\n",
    "        return int(vals[highest_index])\n",
    "    \n",
    "def find_least_frequent_in_array(array):\n",
    "    \"\"\"\n",
    "    For binary arrays.\n",
    "    \"\"\"\n",
    "    vals, counts = np.unique(array, return_counts=True)\n",
    "    if (len(counts) > 1) and (counts[0] == counts[1]):\n",
    "        return int(0)\n",
    "    else:\n",
    "        lowest_val = np.amin(counts)\n",
    "        lowest_index = np.where(counts == lowest_val)\n",
    "        return int(vals[lowest_index])\n",
    "    \n",
    "def filter_by_bit_freq(df, keep_most_common=True):\n",
    "    \"\"\"\n",
    "    Take a pandas df with binary values, return df data subset with most common bits.\n",
    "    \"\"\"\n",
    "    for column in range(df.shape[1]):\n",
    "        if df.shape[0] > 1:\n",
    "            if keep_most_common:\n",
    "                next_bit = find_most_frequent_in_array(df.iloc[:, column])#[0]\n",
    "            else:\n",
    "                next_bit = find_least_frequent_in_array(df.iloc[:, column])#[0]\n",
    "            df = df[df.iloc[:, column] == next_bit]\n",
    "    return np.array(df)\n",
    "    \n",
    "        \n",
    "class Tests(unittest.TestCase):\n",
    "    def test_change_1D_string_to_2D_int(self):\n",
    "        \"\"\"\n",
    "        Test example input.\n",
    "        \"\"\"\n",
    "        a = ['00100']\n",
    "        np.testing.assert_array_equal(change_1D_string_to_2D_int(a), ([[0, 0, 1, 0, 0]]))\n",
    "    \n",
    "    def test_find_most_frequent_colwise(self):\n",
    "        a = [[0,0,0], [0,0,0]]\n",
    "        np.testing.assert_array_equal(find_most_frequent_colwise(a), ([0, 0, 0]))\n",
    "        \n",
    "        a = [[0,0,1], [0,0,1]]\n",
    "        np.testing.assert_array_equal(find_most_frequent_colwise(a), ([0, 0, 1]))\n",
    "        \n",
    "    def test_find_most_frequent_in_array(self):\n",
    "        a = [0, 1]\n",
    "        self.assertEqual(find_most_frequent_in_array(a), (1))\n",
    "        a = [0, 0, 1]\n",
    "        self.assertEqual(find_most_frequent_in_array(a), (0))\n",
    "        \n",
    "    def test_filter_by_bit_freq(self):\n",
    "        a = pd.DataFrame({'col0' : [0], 'col1' : [0]})\n",
    "        np.testing.assert_array_equal(filter_by_bit_freq(a),  [[0, 0]])\n",
    "        a = pd.DataFrame({'col0' : [0, 0], 'col1' : [0, 0]})\n",
    "        np.testing.assert_array_equal(filter_by_bit_freq(a),  [[0, 0], [0, 0]])\n",
    "        np.testing.assert_array_equal(filter_by_bit_freq(a, keep_most_common=True), [[0, 0], [0, 0]])\n",
    "        a = pd.DataFrame({'col0' : [0, 0]})\n",
    "        np.testing.assert_array_equal(filter_by_bit_freq(a),  [[0], [0]])\n",
    "        \n",
    "\n",
    "unittest.main(argv=[''], verbosity=3, exit=False)"
   ]
  },
  {
   "cell_type": "code",
   "execution_count": 3,
   "id": "7b0cd180-d8a0-4411-b80e-73bf97a821c4",
   "metadata": {},
   "outputs": [
    {
     "name": "stdout",
     "output_type": "stream",
     "text": [
      "2583164\n"
     ]
    }
   ],
   "source": [
    "# day 1a, version 1\n",
    "diagnostic_report = np.loadtxt(\"{0}/inputs/input3.txt\".format(directory_path), dtype='str')\n",
    "\n",
    "diagnostic_report_2D = change_1D_string_to_2D_int(diagnostic_report)\n",
    "\n",
    "gamma = find_most_frequent_colwise(diagnostic_report_2D)\n",
    "epsilon = np.logical_not(gamma).astype('int')\n",
    "\n",
    "gamma_decimal = convert_bin_array_2_decimal(gamma)\n",
    "epsilon_decimal = convert_bin_array_2_decimal(epsilon)\n",
    "\n",
    "print(gamma_decimal * epsilon_decimal)"
   ]
  },
  {
   "cell_type": "code",
   "execution_count": 4,
   "id": "2d2d216c-06f4-4b54-b52a-3ef1247046a1",
   "metadata": {},
   "outputs": [
    {
     "name": "stdout",
     "output_type": "stream",
     "text": [
      "2583164\n"
     ]
    }
   ],
   "source": [
    "# day 1a, version 2\n",
    "\n",
    "diagnostic_report = np.loadtxt(\"{0}/inputs/input3.txt\".format(directory_path), dtype='str')\n",
    "diagnostic_report_2D = change_1D_string_to_2D_int(diagnostic_report)\n",
    "diagnostic_report_2D_df = pd.DataFrame(diagnostic_report_2D)\n",
    "gamma = find_most_frequent_colwise_df(diagnostic_report_2D_df)[0]\n",
    "\n",
    "epsilon = np.logical_not(gamma).astype('int') \n",
    "gamma_decimal = convert_bin_array_2_decimal(gamma)\n",
    "epsilon_decimal = convert_bin_array_2_decimal(epsilon)\n",
    "\n",
    "print(gamma_decimal * epsilon_decimal)\n"
   ]
  },
  {
   "cell_type": "code",
   "execution_count": 5,
   "id": "6bc2992c-84cf-4d7d-8e26-a0b339442650",
   "metadata": {},
   "outputs": [
    {
     "name": "stdout",
     "output_type": "stream",
     "text": [
      "2784375\n"
     ]
    }
   ],
   "source": [
    "# day 1b\n",
    "\n",
    "oxygen_generator = filter_by_bit_freq(diagnostic_report_2D_df)\n",
    "scrubber_rating = filter_by_bit_freq(diagnostic_report_2D_df, keep_most_common=False)\n",
    "\n",
    "oxygen_generator_decimal = convert_bin_array_2_decimal(oxygen_generator)\n",
    "scrubber_rating_decimal = convert_bin_array_2_decimal(scrubber_rating)\n",
    "print(oxygen_generator_decimal * scrubber_rating_decimal)"
   ]
  }
 ],
 "metadata": {
  "kernelspec": {
   "display_name": "Python 3 (ipykernel)",
   "language": "python",
   "name": "python3"
  },
  "language_info": {
   "codemirror_mode": {
    "name": "ipython",
    "version": 3
   },
   "file_extension": ".py",
   "mimetype": "text/x-python",
   "name": "python",
   "nbconvert_exporter": "python",
   "pygments_lexer": "ipython3",
   "version": "3.9.7"
  }
 },
 "nbformat": 4,
 "nbformat_minor": 5
}
