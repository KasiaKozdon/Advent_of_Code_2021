{
 "cells": [
  {
   "cell_type": "code",
   "execution_count": 1,
   "id": "6279ea57-7f72-4472-9a95-8a658ca84a08",
   "metadata": {},
   "outputs": [],
   "source": [
    "import numpy as np\n",
    "import os\n",
    "import unittest\n",
    "\n",
    "data_path = '{0}/inputs/Input9.txt'.format(os.getcwd())\n",
    "with open(data_path) as f:\n",
    "    data = []\n",
    "    while True:\n",
    "        new_line = f.readline().strip('\\n')\n",
    "        new_line = [int(x) for x in new_line]\n",
    "        if not new_line:\n",
    "            break\n",
    "        data.append(new_line)\n",
    "data = np.array(data)"
   ]
  },
  {
   "cell_type": "code",
   "execution_count": 2,
   "id": "cf5fd7b9-b44b-4582-b917-117147d0ddf8",
   "metadata": {},
   "outputs": [
    {
     "name": "stderr",
     "output_type": "stream",
     "text": [
      "test_get_neighbours (__main__.Test) ... ok\n",
      "\n",
      "----------------------------------------------------------------------\n",
      "Ran 1 test in 0.008s\n",
      "\n",
      "OK\n"
     ]
    },
    {
     "data": {
      "text/plain": [
       "<unittest.main.TestProgram at 0x10d4c8a30>"
      ]
     },
     "execution_count": 2,
     "metadata": {},
     "output_type": "execute_result"
    }
   ],
   "source": [
    "def check_if_smallest(val_to_check, neighbours):\n",
    "    neighbours = np.array(neighbours)\n",
    "    if min(neighbours) > val_to_check:\n",
    "        return True\n",
    "    else:\n",
    "        return False\n",
    "    \n",
    "def get_neighbours(matrix, row, col):\n",
    "    \"\"\"\n",
    "    Returns a list of non-wrapped neighbours.\n",
    "    \"\"\"\n",
    "    neighbours = np.empty(0)\n",
    "    if row-1 >=0:\n",
    "        neighbours = np.append(neighbours, matrix[row-1, col])\n",
    "    if col-1 >= 0:\n",
    "        neighbours = np.append(neighbours, matrix[row, col-1])\n",
    "    if row+1 < np.shape(matrix)[0]:\n",
    "        neighbours = np.append(neighbours, matrix[row+1, col])\n",
    "    if col+1 < np.shape(matrix)[1]:\n",
    "        neighbours = np.append(neighbours,matrix[row, col+1])\n",
    "    return neighbours.astype(int)\n",
    "        \n",
    "    \n",
    "class Test(unittest.TestCase):\n",
    "    def test_get_neighbours(self):\n",
    "        a = np.array([[0,1,2], [3,4,5]])\n",
    "        b = 0\n",
    "        c = 0\n",
    "        np.testing.assert_array_equal(get_neighbours(a,b,c), [3, 1])\n",
    "        \n",
    "unittest.main(argv=[''], verbosity=3, exit=False)"
   ]
  },
  {
   "cell_type": "code",
   "execution_count": 3,
   "id": "ace694b1-b7af-44b8-919d-4f8041c488be",
   "metadata": {},
   "outputs": [
    {
     "name": "stdout",
     "output_type": "stream",
     "text": [
      "591\n"
     ]
    }
   ],
   "source": [
    "# day 9a\n",
    "risk = 0\n",
    "for row in range(data.shape[0]):\n",
    "    for col in range(data.shape[1]):\n",
    "        neighbours = get_neighbours(data, row, col)\n",
    "        is_smallest = check_if_smallest(data[row, col], neighbours)\n",
    "        if is_smallest:\n",
    "            risk +=data[row, col] + 1 \n",
    "\n",
    "print(risk)"
   ]
  },
  {
   "cell_type": "code",
   "execution_count": 12,
   "id": "59dcb4b0-c01e-4e4a-8af5-4ad5d9b14fda",
   "metadata": {},
   "outputs": [],
   "source": [
    "# day 9b in progress\n",
    "low_points_coords = []\n",
    "for row in range(data.shape[0]):\n",
    "    for col in range(data.shape[1]):\n",
    "        neighbours = get_neighbours(data, row, col)\n",
    "        is_smallest = check_if_smallest(data[row, col], neighbours)\n",
    "        if is_smallest:\n",
    "            low_points_coords.append([row, col])\n",
    "            risk +=data[row, col] + 1 \n"
   ]
  }
 ],
 "metadata": {
  "kernelspec": {
   "display_name": "Python 3 (ipykernel)",
   "language": "python",
   "name": "python3"
  },
  "language_info": {
   "codemirror_mode": {
    "name": "ipython",
    "version": 3
   },
   "file_extension": ".py",
   "mimetype": "text/x-python",
   "name": "python",
   "nbconvert_exporter": "python",
   "pygments_lexer": "ipython3",
   "version": "3.9.7"
  }
 },
 "nbformat": 4,
 "nbformat_minor": 5
}
