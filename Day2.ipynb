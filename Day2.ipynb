{
 "cells": [
  {
   "cell_type": "code",
   "execution_count": 1,
   "id": "1ff7763a-b925-4915-917f-b2a5f144c8ae",
   "metadata": {},
   "outputs": [],
   "source": [
    "import os\n",
    "import pandas as pd\n",
    "import unittest\n",
    "\n",
    "directory_path = os.getcwd()\n",
    "\n",
    "planned_course = pd.read_csv(\"{0}/inputs/input2.txt\".format(directory_path), sep = ' ', header=None)\n",
    "planned_course.columns = ['axis', 'magnitude']"
   ]
  },
  {
   "cell_type": "code",
   "execution_count": 3,
   "id": "7b985621-893f-4839-99c0-999ea6cb75a5",
   "metadata": {},
   "outputs": [
    {
     "name": "stderr",
     "output_type": "stream",
     "text": [
      "test_calculateXY (__main__.Tests)\n",
      "Test handling input length mismatch. ... ok\n",
      "\n",
      "----------------------------------------------------------------------\n",
      "Ran 1 test in 0.003s\n",
      "\n",
      "OK\n"
     ]
    },
    {
     "data": {
      "text/plain": [
       "<unittest.main.TestProgram at 0x11cdcb7c0>"
      ]
     },
     "execution_count": 3,
     "metadata": {},
     "output_type": "execute_result"
    }
   ],
   "source": [
    "def calculateX_Y_aim(actions, magnitudes):\n",
    "    x = 0\n",
    "    y = 0\n",
    "    aim = 0\n",
    "    if len(actions) != len(magnitudes):\n",
    "        raise Exception(\"Both inputs have to have the same length\") \n",
    "    for action_idx in range(len(actions)):\n",
    "        if actions[action_idx] == 'up':\n",
    "            aim -= magnitudes[action_idx]\n",
    "        elif actions[action_idx] == 'down':\n",
    "            aim += magnitudes[action_idx]\n",
    "        elif actions[action_idx] == 'forward':\n",
    "            x += magnitudes[action_idx]\n",
    "            y += aim * magnitudes[action_idx]\n",
    "        else:\n",
    "            raise Exception(\"Possible actions are up, down, forward. Wrong action: {0}\".format(actions[command_idx])) \n",
    "    return (x, y, aim)\n",
    "        \n",
    "class Tests(unittest.TestCase):\n",
    "    def test_calculateXY(self):\n",
    "        \"\"\"\n",
    "        Test handling input length mismatch.\n",
    "        \"\"\"\n",
    "        a = ['down', 'down', 'down']\n",
    "        b = [1, 2, 3, 4]\n",
    "        with self.assertRaises(Exception):\n",
    "            calculateX_Y_aim(a, b)\n",
    "            \n",
    "        \"\"\"\n",
    "        Test handling wrong action type.\n",
    "        \"\"\"\n",
    "        a = ['up', 'down', 'forward', 'something']\n",
    "        b = [1, 2, 3, 4]\n",
    "        with self.assertRaises(Exception):\n",
    "            calculateX_Y_aim(a, b)\n",
    "            \n",
    "        \"\"\"\n",
    "        Test up and down.\n",
    "        \"\"\"\n",
    "        a = ['forward']\n",
    "        b = [5]\n",
    "        self.assertEqual(calculateX_Y_aim(a, b), (5, 0, 0))\n",
    "        a = ['forward', 'down']\n",
    "        b = [5, 5]\n",
    "        self.assertEqual(calculateX_Y_aim(a, b), (5, 0, 5))\n",
    "        a = ['forward', 'down', 'forward']\n",
    "        b = [5, 5, 8]\n",
    "        self.assertEqual(calculateX_Y_aim(a, b), (13, 40, 5))\n",
    "        a = ['forward', 'down', 'forward', 'up']\n",
    "        b = [5, 5, 8, 3]\n",
    "        self.assertEqual(calculateX_Y_aim(a, b), (13, 40, 2))\n",
    "        a = ['forward', 'down', 'forward', 'up', 'down']\n",
    "        b = [5, 5, 8, 3, 8]\n",
    "        self.assertEqual(calculateX_Y_aim(a, b), (13, 40, 10))\n",
    "        a = ['forward', 'down', 'forward', 'up', 'down', 'forward']\n",
    "        b = [5, 5, 8, 3, 8, 2]\n",
    "        self.assertEqual(calculateX_Y_aim(a, b), (15, 60, 10))\n",
    "\n",
    "\n",
    "unittest.main(argv=[''], verbosity=3, exit=False)"
   ]
  },
  {
   "cell_type": "code",
   "execution_count": 2,
   "id": "735d0b45-a43e-41c4-9585-572cd4178551",
   "metadata": {},
   "outputs": [
    {
     "name": "stdout",
     "output_type": "stream",
     "text": [
      "1604850\n"
     ]
    }
   ],
   "source": [
    "# day 2a\n",
    "depth = 0\n",
    "horizontal = 0\n",
    "\n",
    "down_total = planned_course[planned_course['axis'] == 'down']['magnitude'].sum()\n",
    "up_total = planned_course[planned_course['axis'] == 'up']['magnitude'].sum()\n",
    "depth = down_total - up_total\n",
    "horizontal = planned_course[planned_course['axis'] == 'forward']['magnitude'].sum()\n",
    "\n",
    "print(depth * horizontal)"
   ]
  },
  {
   "cell_type": "code",
   "execution_count": 4,
   "id": "4bb0e68b-695c-485a-ae3f-851f8ba7513b",
   "metadata": {},
   "outputs": [
    {
     "name": "stdout",
     "output_type": "stream",
     "text": [
      "1685186100\n"
     ]
    }
   ],
   "source": [
    "# day 2b\n",
    "depth = 0\n",
    "horizontal = 0\n",
    "aim = 0\n",
    "\n",
    "horizontal, depth, aim = calculateX_Y_aim(planned_course['axis'], planned_course['magnitude'])\n",
    "        \n",
    "print(depth * horizontal)"
   ]
  }
 ],
 "metadata": {
  "kernelspec": {
   "display_name": "Python 3 (ipykernel)",
   "language": "python",
   "name": "python3"
  },
  "language_info": {
   "codemirror_mode": {
    "name": "ipython",
    "version": 3
   },
   "file_extension": ".py",
   "mimetype": "text/x-python",
   "name": "python",
   "nbconvert_exporter": "python",
   "pygments_lexer": "ipython3",
   "version": "3.9.7"
  }
 },
 "nbformat": 4,
 "nbformat_minor": 5
}
