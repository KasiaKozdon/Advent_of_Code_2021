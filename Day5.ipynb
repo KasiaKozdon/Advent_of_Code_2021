{
 "cells": [
  {
   "cell_type": "code",
   "execution_count": 42,
   "id": "251bf976-bf2d-4026-9726-1c094cee5e83",
   "metadata": {},
   "outputs": [],
   "source": [
    "import numpy as np\n",
    "import os\n",
    "\n",
    "directory_path = os.getcwd()\n",
    "thermal_vents_data_path = \"{0}/inputs/Input5.txt\".format(directory_path)\n",
    "\n",
    "with open(thermal_vents_data_path) as f:\n",
    "    thermal_vents_data = f.readlines()\n",
    "    thermal_vents_data = [x.replace(' -> ', ',').strip('\\n').split(\",\") for x in thermal_vents_data]\n",
    "    thermal_vents_data = [[int(y) for y in x] for x in thermal_vents_data]\n",
    "    thermal_vents_data = np.array(thermal_vents_data)"
   ]
  },
  {
   "cell_type": "code",
   "execution_count": 43,
   "id": "97095a37-0bfb-45b7-ac00-4b7257333829",
   "metadata": {},
   "outputs": [
    {
     "name": "stdout",
     "output_type": "stream",
     "text": [
      "5373\n"
     ]
    }
   ],
   "source": [
    "# day 5a\n",
    "map_width = max(max(thermal_vents_data[:,1]), max(thermal_vents_data[3])) + 1\n",
    "map_height = max(max(thermal_vents_data[:,0]), max(thermal_vents_data[2])) + 1\n",
    "vent_map = np.zeros((map_height, map_width))\n",
    "\n",
    "for line in thermal_vents_data:\n",
    "    if line[0] == line[2]:\n",
    "        start = min(line[1], line[3])\n",
    "        stop = max(line[1], line[3]) + 1\n",
    "        vent_map[start:stop, line[0]] += 1\n",
    "    elif line[1] == line[3]:\n",
    "        start = min(line[0], line[2])\n",
    "        stop = max(line[0], line[2]) + 1\n",
    "        vent_map[line[1], start:stop] += 1\n",
    "        \n",
    "count_of_vent_overlaps = len(vent_map[vent_map >= 2])\n",
    "print(count_of_vent_overlaps)"
   ]
  },
  {
   "cell_type": "code",
   "execution_count": 44,
   "id": "3f8dfbb5-0002-419a-bbad-eb8ec809989c",
   "metadata": {},
   "outputs": [
    {
     "name": "stdout",
     "output_type": "stream",
     "text": [
      "21514\n"
     ]
    }
   ],
   "source": [
    "# day 5b\n",
    "def check_diagonal_positive(x1, y1, x2, y2):\n",
    "    if (x1 > x2) and (y1 > y2):\n",
    "        return False\n",
    "    elif (x1 < x2) and (y1 < y2):\n",
    "        return False\n",
    "    else:\n",
    "        return True    \n",
    "\n",
    "for line in thermal_vents_data:\n",
    "    if (line[0] != line[2]) and (line[1] != line[3]):\n",
    "        partial_mat_width = abs(line[0] - line[2]) + 1\n",
    "        partial_mat_height = abs(line[1] - line[3]) + 1\n",
    "        partial_mat = np.zeros((partial_mat_height, partial_mat_width))\n",
    "        np.fill_diagonal(partial_mat, 1)\n",
    "        positive_slope = check_diagonal_positive(*line)\n",
    "        if positive_slope:\n",
    "            partial_mat = np.fliplr(partial_mat)\n",
    "        x_min = min(line[0], line[2])\n",
    "        x_max = max(line[0], line[2]) \n",
    "        y_min = min(line[1], line[3])\n",
    "        y_max = max(line[1], line[3]) \n",
    "        vent_map[y_min:y_max+1, x_min:x_max+1] += partial_mat\n",
    "            \n",
    "count_of_vent_overlaps = len(vent_map[vent_map >= 2])\n",
    "print(count_of_vent_overlaps)"
   ]
  }
 ],
 "metadata": {
  "kernelspec": {
   "display_name": "Python 3 (ipykernel)",
   "language": "python",
   "name": "python3"
  },
  "language_info": {
   "codemirror_mode": {
    "name": "ipython",
    "version": 3
   },
   "file_extension": ".py",
   "mimetype": "text/x-python",
   "name": "python",
   "nbconvert_exporter": "python",
   "pygments_lexer": "ipython3",
   "version": "3.9.7"
  }
 },
 "nbformat": 4,
 "nbformat_minor": 5
}
