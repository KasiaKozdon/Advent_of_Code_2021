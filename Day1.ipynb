{
 "cells": [
  {
   "cell_type": "code",
   "execution_count": 1,
   "id": "c93f7b29-ce54-45ee-91a6-1720be8d982c",
   "metadata": {},
   "outputs": [],
   "source": [
    "import os\n",
    "import numpy as np\n",
    "import unittest\n",
    "\n",
    "directory_path = os.getcwd()\n",
    "\n",
    "input1 = np.loadtxt(\"{0}/inputs/input1.txt\".format(directory_path))"
   ]
  },
  {
   "cell_type": "code",
   "execution_count": 2,
   "id": "6f76253a-c979-4ad6-b6c5-e8d4b03f56f8",
   "metadata": {},
   "outputs": [
    {
     "name": "stderr",
     "output_type": "stream",
     "text": [
      "test_sliding_window (__main__.Tests)\n",
      "Test handling incomplete windows. ... ok\n",
      "\n",
      "----------------------------------------------------------------------\n",
      "Ran 1 test in 0.002s\n",
      "\n",
      "OK\n"
     ]
    },
    {
     "data": {
      "text/plain": [
       "<unittest.main.TestProgram at 0x11c1a4fd0>"
      ]
     },
     "execution_count": 2,
     "metadata": {},
     "output_type": "execute_result"
    }
   ],
   "source": [
    "def sliding_window(array, window_size, offset=0):\n",
    "    \"\"\"\n",
    "    Returns a requested window. If the full length of the window is not available, raises an error.\n",
    "    \"\"\"\n",
    "    if len(array) < window_size + offset:\n",
    "        raise Exception(\"Requested window exceeds array size.\") \n",
    "    else:\n",
    "        return array[offset:window_size + offset]\n",
    "    \n",
    "class Tests(unittest.TestCase):\n",
    "    def test_sliding_window(self):\n",
    "        \"\"\"\n",
    "        Test handling incomplete windows.\n",
    "        \"\"\"\n",
    "        array = [1, 2, 3, 4, 5]\n",
    "        with self.assertRaises(Exception):\n",
    "            sliding_window(array, len(array)+1, 0)\n",
    "            sliding_window(array, 1, len(array))\n",
    "            \n",
    "        \"\"\"\n",
    "        Test simple case.\n",
    "        \"\"\"\n",
    "        array = [1, 2, 3, 4, 5]\n",
    "        self.assertEqual(sliding_window(array, 1, 0), [1])\n",
    "        self.assertEqual(sliding_window(array, len(array), 0), [1, 2, 3, 4, 5])\n",
    "        self.assertEqual(sliding_window(array, 1, 1), [2])\n",
    "        self.assertEqual(sliding_window(array, len(array) - 1, 1), [2, 3, 4, 5])\n",
    "\n",
    "\n",
    "unittest.main(argv=[''], verbosity=3, exit=False)"
   ]
  },
  {
   "cell_type": "code",
   "execution_count": 3,
   "id": "034ca7ef-7012-4104-8915-b4de4c67cc1d",
   "metadata": {},
   "outputs": [
    {
     "name": "stdout",
     "output_type": "stream",
     "text": [
      "1477\n"
     ]
    }
   ],
   "source": [
    "# day 1a\n",
    "larger_than_following = input1[1:] > input1[:-1]\n",
    "count_larger_than_following = sum(larger_than_following)\n",
    "print(count_larger_than_following)"
   ]
  },
  {
   "cell_type": "code",
   "execution_count": 4,
   "id": "d5e045c3-f786-4dd0-8ee8-e8d0a3b745c1",
   "metadata": {},
   "outputs": [
    {
     "name": "stdout",
     "output_type": "stream",
     "text": [
      "1523\n"
     ]
    }
   ],
   "source": [
    "# day 1b\n",
    "window_size = 3\n",
    "window_count = int(len(input1) - (len(input1) % window_size))\n",
    "window_larger_than_following = np.empty((window_count), dtype=bool)\n",
    "\n",
    "for window_idx in range(window_count - 1):\n",
    "    window_larger_than_following[window_idx] = sum(sliding_window(input1, window_size, window_idx)) < sum(sliding_window(input1, window_size, window_idx + 1)) \n",
    "\n",
    "count_window_larger_than_following = sum(window_larger_than_following)\n",
    "print(count_window_larger_than_following)"
   ]
  },
  {
   "cell_type": "code",
   "execution_count": 5,
   "id": "03d5debb-0ebd-4853-a610-f070390a4467",
   "metadata": {},
   "outputs": [
    {
     "data": {
      "text/plain": [
       "'\\nTODO: rewrite using a lambda function\\ndef buildSlider(my_input, window_size):\\n    return lambda i: sliding_window(my_input, window_size, i)\\n\\nmySlider = buildSlider(input1, 3)\\n\\nmySlider(1)'"
      ]
     },
     "execution_count": 5,
     "metadata": {},
     "output_type": "execute_result"
    }
   ],
   "source": [
    "\"\"\"\n",
    "TODO: rewrite using a lambda function\n",
    "def buildSlider(my_input, window_size):\n",
    "    return lambda i: sliding_window(my_input, window_size, i)\n",
    "\n",
    "mySlider = buildSlider(input1, 3)\n",
    "\n",
    "mySlider(1)\"\"\""
   ]
  }
 ],
 "metadata": {
  "kernelspec": {
   "display_name": "Python 3 (ipykernel)",
   "language": "python",
   "name": "python3"
  },
  "language_info": {
   "codemirror_mode": {
    "name": "ipython",
    "version": 3
   },
   "file_extension": ".py",
   "mimetype": "text/x-python",
   "name": "python",
   "nbconvert_exporter": "python",
   "pygments_lexer": "ipython3",
   "version": "3.9.7"
  }
 },
 "nbformat": 4,
 "nbformat_minor": 5
}
