{
 "cells": [
  {
   "cell_type": "code",
   "execution_count": 1,
   "id": "1bb83273-d0cd-4070-88bb-e3a64b3a95bc",
   "metadata": {},
   "outputs": [],
   "source": [
    "import numpy as np\n",
    "import os\n",
    "import unittest\n",
    "\n",
    "data_path = \"{0}/inputs/Input6.txt\".format(os.getcwd())\n",
    "with open(data_path) as f:\n",
    "    data = f.readline().split(',')\n",
    "    data = list(map(int, data))\n",
    "    data = np.array(data).astype(int)\n",
    "\n",
    "countdown_reset_day = 6 # on the breeding day, breeding fish are reset to this value\n",
    "newborn_countdown = 8 # newly born fish are set to this value"
   ]
  },
  {
   "cell_type": "code",
   "execution_count": 2,
   "id": "fe826201-cd2f-47f1-92de-01a016e23ca3",
   "metadata": {},
   "outputs": [
    {
     "name": "stderr",
     "output_type": "stream",
     "text": [
      "test_convert_to_dense (__main__.Tests) ... ok\n",
      "test_create_fish (__main__.Tests) ... ok\n",
      "\n",
      "----------------------------------------------------------------------\n",
      "Ran 2 tests in 0.005s\n",
      "\n",
      "OK\n"
     ]
    },
    {
     "data": {
      "text/plain": [
       "<unittest.main.TestProgram at 0x10f564b20>"
      ]
     },
     "execution_count": 2,
     "metadata": {},
     "output_type": "execute_result"
    }
   ],
   "source": [
    "def create_fish(count_to_breed, newborn_set_day):\n",
    "    \"\"\" \n",
    "    Assumes that newborn_set_day is the max age countdown a fish can have; zero is included.\n",
    "    Returns a dense array with the new fish. \n",
    "    \"\"\"\n",
    "    update_to_stock_dense = np.zeros(newborn_set_day+1)\n",
    "    update_to_stock_dense[newborn_set_day] += count_to_breed\n",
    "    return update_to_stock_dense.astype(int)\n",
    "\n",
    "def age_fish(dense_array, breeds_count, post_breeding_reset_day):\n",
    "    aged_array = np.zeros(len(dense_array))\n",
    "    aged_array[0:-1] = dense_array[1:]\n",
    "    aged_array[post_breeding_reset_day] += breeds_count \n",
    "    return aged_array.astype(int)\n",
    "\n",
    "def convert_to_dense(array, max_countdown):\n",
    "    \"\"\"\n",
    "    Takes an array of fish countdowns; counter per fish. Returns an array with count of fish with a counter value i at index i.\n",
    "    \"\"\"\n",
    "    dense_array = np.zeros(max_countdown+1)\n",
    "    for fish in array:\n",
    "        dense_array[fish] +=1\n",
    "    return dense_array.astype(int)\n",
    "    \n",
    "class Tests(unittest.TestCase):\n",
    "    def test_convert_to_dense(self):\n",
    "        a = [1, 2, 3]\n",
    "        b = 3\n",
    "        np.testing.assert_array_equal(convert_to_dense(a, b), [0, 1, 1, 1])\n",
    "        a = [3,4,3,1,2]\n",
    "        b = 4\n",
    "        np.testing.assert_array_equal(convert_to_dense(a, b), [0, 1, 1, 2, 1])\n",
    "        \n",
    "    def test_create_fish(self):\n",
    "        a = 1\n",
    "        b = 4\n",
    "        np.testing.assert_array_equal(create_fish(a,b), [0, 0, 0, 0, 1])\n",
    "        \n",
    "unittest.main(argv=[''], verbosity=3, exit=False)   "
   ]
  },
  {
   "cell_type": "code",
   "execution_count": 3,
   "id": "9d5adfe3-74b4-45f9-84b4-97f5f3ab9445",
   "metadata": {},
   "outputs": [
    {
     "name": "stdout",
     "output_type": "stream",
     "text": [
      "372300\n"
     ]
    }
   ],
   "source": [
    "# day 6a \n",
    "fish_stock = data.copy()\n",
    "days_to_simulate = 80\n",
    "\n",
    "for day in range(days_to_simulate):\n",
    "    fish_stock -= 1\n",
    "    new_fish_count = len(fish_stock[fish_stock < 0])\n",
    "    fish_stock[fish_stock < 0] = countdown_reset_day\n",
    "    fish_stock = np.append(fish_stock, np.ones(new_fish_count) * newborn_countdown)\n",
    "\n",
    "print(len(fish_stock))"
   ]
  },
  {
   "cell_type": "code",
   "execution_count": 4,
   "id": "8e1ae7ea-241d-41ff-a27c-9c6fca4712e9",
   "metadata": {},
   "outputs": [
    {
     "name": "stdout",
     "output_type": "stream",
     "text": [
      "1675781200288\n"
     ]
    }
   ],
   "source": [
    "# day 6b\n",
    "fish_stock = data.copy()\n",
    "days_to_simulate = 256\n",
    "fish_stock_dense = convert_to_dense(fish_stock.astype(int), newborn_countdown)\n",
    "for day in range(days_to_simulate):\n",
    "    fish_to_breed = fish_stock_dense[0]\n",
    "    fish_stock_dense = age_fish(fish_stock_dense, fish_to_breed, countdown_reset_day)\n",
    "    fish_stock_dense += create_fish(fish_to_breed, newborn_countdown)\n",
    "     \n",
    "print(sum(fish_stock_dense))"
   ]
  },
  {
   "cell_type": "code",
   "execution_count": null,
   "id": "aec23287-b3c9-49a9-956b-274140dac444",
   "metadata": {},
   "outputs": [],
   "source": []
  }
 ],
 "metadata": {
  "kernelspec": {
   "display_name": "Python 3 (ipykernel)",
   "language": "python",
   "name": "python3"
  },
  "language_info": {
   "codemirror_mode": {
    "name": "ipython",
    "version": 3
   },
   "file_extension": ".py",
   "mimetype": "text/x-python",
   "name": "python",
   "nbconvert_exporter": "python",
   "pygments_lexer": "ipython3",
   "version": "3.9.7"
  }
 },
 "nbformat": 4,
 "nbformat_minor": 5
}
